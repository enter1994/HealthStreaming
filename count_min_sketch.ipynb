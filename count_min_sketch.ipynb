{
 "cells": [
  {
   "cell_type": "code",
   "execution_count": 3,
   "id": "c50f811f-33ed-4b48-8949-79b69b33ca33",
   "metadata": {},
   "outputs": [],
   "source": [
    "import pandas as pd\n",
    "import numpy as np\n",
    "import datetime\n",
    "import time\n",
    "import random\n",
    "from kafka import KafkaConsumer, KafkaProducer\n",
    "from json import loads, dumps\n",
    "from collections import Counter\n",
    "\n",
    "import sys\n",
    "sys.path.append('./CountMinSketch/')\n",
    "\n",
    "from countminsketch import CountMinSketch\n",
    "# from hashfactory import hash_function"
   ]
  },
  {
   "cell_type": "code",
   "execution_count": 4,
   "id": "615f6898-9b52-4244-81de-c2289d070901",
   "metadata": {},
   "outputs": [],
   "source": [
    "seed=0\n",
    "np.random.seed(seed)\n",
    "random.seed(seed)"
   ]
  },
  {
   "cell_type": "code",
   "execution_count": 5,
   "id": "f28b74c6-a4c3-497f-b954-601450bf77d8",
   "metadata": {},
   "outputs": [],
   "source": [
    "file = pd.read_csv('november_2021_COVID-19_Twitter_Streaming_Dataset.csv')"
   ]
  },
  {
   "cell_type": "code",
   "execution_count": 7,
   "id": "7c921387-f645-4c51-a325-c35e256279d1",
   "metadata": {},
   "outputs": [],
   "source": [
    "def find_tweet_timestamp_post_snowflake(tid):\n",
    "    offset = 1288834974657\n",
    "    tstamp = (tid >> 22) + offset\n",
    "    return tstamp"
   ]
  },
  {
   "cell_type": "code",
   "execution_count": 8,
   "id": "9d1854fc-5050-4d4d-8a0a-5d792a2a069b",
   "metadata": {},
   "outputs": [],
   "source": [
    "import random\n",
    "import hashlib\n",
    "\n",
    "_memomask = {}\n",
    "def hash_function(n):\n",
    "    \"\"\"\n",
    "    :param n: the index of the hash function\n",
    "    :return: a generated hash function\n",
    "    \"\"\"\n",
    "    mask = _memomask.get(n)\n",
    "    bit=4\n",
    "    if mask is None:\n",
    "        random.seed(n)\n",
    "        mask = _memomask[n] = random.getrandbits(bit)\n",
    "        # print(mask)\n",
    "\n",
    "    def my_hash(x):\n",
    "        # print('x' ,x)\n",
    "        # print(str(x) + str(n))\n",
    "        return hash(str(x) + str(n)) ^ mask\n",
    "\n",
    "    return my_hash"
   ]
  },
  {
   "cell_type": "code",
   "execution_count": null,
   "id": "1416ee5f-3641-4f2e-bf5b-3c337e8cb6de",
   "metadata": {},
   "outputs": [],
   "source": []
  },
  {
   "cell_type": "code",
   "execution_count": 9,
   "id": "58a1de1b-d348-4c4e-9f09-2a7526838ebd",
   "metadata": {},
   "outputs": [],
   "source": [
    "DEPTH = 7\n",
    "# WIDTH = 2**22\n",
    "WIDTH = 5\n",
    "HASH_FUNCTIONS = [hash_function(i) for i in range(DEPTH)]"
   ]
  },
  {
   "cell_type": "code",
   "execution_count": 10,
   "id": "83af74a5-b347-4bcb-b6cf-48c58ce4abee",
   "metadata": {},
   "outputs": [
    {
     "name": "stdout",
     "output_type": "stream",
     "text": [
      "1 2 4 1 4 \n",
      "3 1 1 4 1 \n",
      "4 3 1 4 4 \n",
      "4 4 1 4 0 \n",
      "2 3 1 2 3 \n",
      "0 1 1 3 0 \n",
      "0 1 0 3 1 \n"
     ]
    }
   ],
   "source": [
    "hash_map = []\n",
    "for i in range(len(HASH_FUNCTIONS)):\n",
    "    list_=[]\n",
    "    for j in range((WIDTH)):\n",
    "        list_.append(HASH_FUNCTIONS[i](j)%WIDTH)\n",
    "        print(HASH_FUNCTIONS[i](j)%WIDTH, end=' ')\n",
    "    hash_map.append(list_)\n",
    "    print()"
   ]
  },
  {
   "cell_type": "code",
   "execution_count": 11,
   "id": "34e7f6b7-e6e6-41d3-8e4c-f6841f42a424",
   "metadata": {},
   "outputs": [],
   "source": [
    "hash_map =np.array(hash_map).T"
   ]
  },
  {
   "cell_type": "code",
   "execution_count": 12,
   "id": "5ebd2338-7300-43f0-9848-93c78a57d747",
   "metadata": {},
   "outputs": [
    {
     "ename": "KeyboardInterrupt",
     "evalue": "",
     "output_type": "error",
     "traceback": [
      "\u001b[0;31m---------------------------------------------------------------------------\u001b[0m",
      "\u001b[0;31mKeyboardInterrupt\u001b[0m                         Traceback (most recent call last)",
      "Cell \u001b[0;32mIn [12], line 11\u001b[0m\n\u001b[1;32m      8\u001b[0m batch[current_date\u001b[38;5;241m.\u001b[39mhour]\u001b[38;5;241m+\u001b[39m\u001b[38;5;241m=\u001b[39m\u001b[38;5;241m1\u001b[39m\n\u001b[1;32m      9\u001b[0m \u001b[38;5;28;01mfor\u001b[39;00m key, count \u001b[38;5;129;01min\u001b[39;00m batch\u001b[38;5;241m.\u001b[39mitems():\n\u001b[1;32m     10\u001b[0m     \u001b[38;5;66;03m# print(key, count)\u001b[39;00m\n\u001b[0;32m---> 11\u001b[0m     \u001b[43msketch\u001b[49m\u001b[38;5;241;43m.\u001b[39;49m\u001b[43madd\u001b[49m\u001b[43m(\u001b[49m\u001b[43mkey\u001b[49m\u001b[43m,\u001b[49m\u001b[43m \u001b[49m\u001b[43mcount\u001b[49m\u001b[43m)\u001b[49m\n\u001b[1;32m     12\u001b[0m batch\u001b[38;5;241m.\u001b[39mclear()\n",
      "File \u001b[0;32m~/BERT/streaming/./CountMinSketch/countminsketch.py:21\u001b[0m, in \u001b[0;36mCountMinSketch.add\u001b[0;34m(self, x, delta)\u001b[0m\n\u001b[1;32m     19\u001b[0m \u001b[38;5;28;01mdef\u001b[39;00m \u001b[38;5;21madd\u001b[39m(\u001b[38;5;28mself\u001b[39m, x, delta\u001b[38;5;241m=\u001b[39m\u001b[38;5;241m1\u001b[39m):\n\u001b[1;32m     20\u001b[0m     \u001b[38;5;28;01mfor\u001b[39;00m i \u001b[38;5;129;01min\u001b[39;00m \u001b[38;5;28mrange\u001b[39m(\u001b[38;5;28mself\u001b[39m\u001b[38;5;241m.\u001b[39md):\n\u001b[0;32m---> 21\u001b[0m         \u001b[38;5;28mself\u001b[39m\u001b[38;5;241m.\u001b[39mM[i][\u001b[38;5;28mself\u001b[39m\u001b[38;5;241m.\u001b[39mhash_functions[i](x) \u001b[38;5;241m%\u001b[39m \u001b[38;5;28mself\u001b[39m\u001b[38;5;241m.\u001b[39mw] \u001b[38;5;241m+\u001b[39m\u001b[38;5;241m=\u001b[39m delta\n",
      "\u001b[0;31mKeyboardInterrupt\u001b[0m: "
     ]
    }
   ],
   "source": [
    "batch = Counter()\n",
    "sketch = CountMinSketch(DEPTH, WIDTH, HASH_FUNCTIONS)\n",
    "for idx, tid in enumerate(file['_id']):\n",
    "    # print(tid)\n",
    "    timestamp = find_tweet_timestamp_post_snowflake(tid)\n",
    "    current_date = datetime.datetime.fromtimestamp(timestamp/1000)\n",
    "    # print(current_date.hour, current_date.ctime().split()[0])\n",
    "    batch[current_date.hour]+=1\n",
    "    for key, count in batch.items():\n",
    "        # print(key, count)\n",
    "        sketch.add(key, count)\n",
    "    batch.clear()\n",
    "    \n",
    "    # if idx==100:\n",
    "    #     break"
   ]
  },
  {
   "cell_type": "code",
   "execution_count": 27,
   "id": "73025478-70ce-459f-b3b8-da713b32a700",
   "metadata": {},
   "outputs": [
    {
     "data": {
      "text/plain": [
       "6"
      ]
     },
     "execution_count": 27,
     "metadata": {},
     "output_type": "execute_result"
    }
   ],
   "source": [
    "idx"
   ]
  },
  {
   "cell_type": "code",
   "execution_count": 13,
   "id": "1abf28bf-5ae6-4060-875e-a0b31ef5b73f",
   "metadata": {},
   "outputs": [
    {
     "data": {
      "text/plain": [
       "array([[3469601, 3970395, 3996707, 1481852, 3334836],\n",
       "       [1829975, 5246030, 2781336, 1962472, 4433578],\n",
       "       [1273583, 1377384, 3076463, 3014971, 7510990],\n",
       "       [3201415, 2529839, 2568852, 4986012, 2967273],\n",
       "       [3782249, 1175518, 4694965, 3379589, 3221070],\n",
       "       [3112963, 5080318, 3398419, 1983244, 2678447],\n",
       "       [6026014, 2781726, 1897374, 2421347, 3126930]], dtype=int32)"
      ]
     },
     "execution_count": 13,
     "metadata": {},
     "output_type": "execute_result"
    }
   ],
   "source": [
    "sketch.get_matrix()"
   ]
  },
  {
   "cell_type": "code",
   "execution_count": 15,
   "id": "7e50cd24-957d-4967-b89b-ab261bd9ab69",
   "metadata": {},
   "outputs": [
    {
     "data": {
      "text/plain": [
       "array([1, 3, 4, 4, 2, 0, 0])"
      ]
     },
     "execution_count": 15,
     "metadata": {},
     "output_type": "execute_result"
    }
   ],
   "source": [
    "hash_map[0]"
   ]
  },
  {
   "cell_type": "code",
   "execution_count": 26,
   "id": "41c5024e-19e6-44b6-a38c-3a3fc3d39dbf",
   "metadata": {},
   "outputs": [
    {
     "data": {
      "text/plain": [
       "1962472"
      ]
     },
     "execution_count": 26,
     "metadata": {},
     "output_type": "execute_result"
    }
   ],
   "source": [
    "min([sketch.get_matrix()[idx][j] for idx, j in enumerate(hash_map[0])])"
   ]
  },
  {
   "cell_type": "code",
   "execution_count": null,
   "id": "77bc45d0-e961-40ef-a662-34909678077b",
   "metadata": {},
   "outputs": [],
   "source": []
  },
  {
   "cell_type": "code",
   "execution_count": null,
   "id": "9c9372e7-45cb-402b-8895-b429fbaaaa39",
   "metadata": {},
   "outputs": [],
   "source": []
  },
  {
   "cell_type": "code",
   "execution_count": null,
   "id": "2287aef1-e50e-4d6e-9132-231fbde9044b",
   "metadata": {},
   "outputs": [],
   "source": []
  },
  {
   "cell_type": "code",
   "execution_count": null,
   "id": "3f343036-2178-4c31-8c02-d43b97d50c61",
   "metadata": {},
   "outputs": [],
   "source": []
  },
  {
   "cell_type": "code",
   "execution_count": null,
   "id": "31eb3a2f-89b3-4667-8976-ef7b812abb16",
   "metadata": {},
   "outputs": [],
   "source": []
  },
  {
   "cell_type": "code",
   "execution_count": null,
   "id": "b55f784e-7c2c-427a-9dc1-167285ace5e1",
   "metadata": {},
   "outputs": [],
   "source": []
  },
  {
   "cell_type": "code",
   "execution_count": null,
   "id": "2c8b5b01-2d98-4638-8634-235c3352ec08",
   "metadata": {},
   "outputs": [],
   "source": []
  },
  {
   "cell_type": "code",
   "execution_count": null,
   "id": "86aba1aa-b6c6-4b29-aea5-1caf8bdaa30a",
   "metadata": {},
   "outputs": [],
   "source": []
  },
  {
   "cell_type": "code",
   "execution_count": null,
   "id": "ae80bc9c-e432-40f3-a2c3-9f6dcbe0678a",
   "metadata": {},
   "outputs": [],
   "source": []
  },
  {
   "cell_type": "code",
   "execution_count": null,
   "id": "d2b78a40-7089-4fda-8c09-a6debe4680c8",
   "metadata": {},
   "outputs": [],
   "source": []
  }
 ],
 "metadata": {
  "kernelspec": {
   "display_name": "Python 3 (ipykernel)",
   "language": "python",
   "name": "python3"
  },
  "language_info": {
   "codemirror_mode": {
    "name": "ipython",
    "version": 3
   },
   "file_extension": ".py",
   "mimetype": "text/x-python",
   "name": "python",
   "nbconvert_exporter": "python",
   "pygments_lexer": "ipython3",
   "version": "3.10.8"
  }
 },
 "nbformat": 4,
 "nbformat_minor": 5
}
