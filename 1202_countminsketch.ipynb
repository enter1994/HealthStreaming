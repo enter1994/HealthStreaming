{
 "cells": [
  {
   "cell_type": "code",
   "execution_count": 1,
   "id": "c50f811f-33ed-4b48-8949-79b69b33ca33",
   "metadata": {},
   "outputs": [],
   "source": [
    "import pandas as pd\n",
    "import numpy as np\n",
    "import datetime\n",
    "import time\n",
    "import random\n",
    "from kafka import KafkaConsumer, KafkaProducer\n",
    "from json import loads, dumps\n",
    "from collections import Counter\n",
    "\n",
    "import sys\n",
    "sys.path.append('./CountMinSketch/')\n",
    "\n",
    "from countminsketch import CountMinSketch\n",
    "from hashfactory import hash_function"
   ]
  },
  {
   "cell_type": "code",
   "execution_count": 2,
   "id": "615f6898-9b52-4244-81de-c2289d070901",
   "metadata": {},
   "outputs": [],
   "source": [
    "seed=0\n",
    "np.random.seed(seed)\n",
    "random.seed(seed)"
   ]
  },
  {
   "cell_type": "code",
   "execution_count": 3,
   "id": "f28b74c6-a4c3-497f-b954-601450bf77d8",
   "metadata": {},
   "outputs": [],
   "source": [
    "file = pd.read_csv('november_2021_COVID-19_Twitter_Streaming_Dataset.csv')"
   ]
  },
  {
   "cell_type": "code",
   "execution_count": 4,
   "id": "7c921387-f645-4c51-a325-c35e256279d1",
   "metadata": {},
   "outputs": [],
   "source": [
    "def find_tweet_timestamp_post_snowflake(tid):\n",
    "    offset = 1288834974657\n",
    "    tstamp = (tid >> 22) + offset\n",
    "    return tstamp"
   ]
  },
  {
   "cell_type": "code",
   "execution_count": null,
   "id": "1416ee5f-3641-4f2e-bf5b-3c337e8cb6de",
   "metadata": {},
   "outputs": [],
   "source": []
  },
  {
   "cell_type": "code",
   "execution_count": 5,
   "id": "58a1de1b-d348-4c4e-9f09-2a7526838ebd",
   "metadata": {},
   "outputs": [],
   "source": [
    "# hash 함수 개수\n",
    "DEPTH = 5\n",
    "# WIDTH = 2**22\n",
    "# 데이터 수\n",
    "WIDTH = 7\n",
    "HASH_FUNCTIONS = [hash_function(i) for i in range(DEPTH)]"
   ]
  },
  {
   "cell_type": "code",
   "execution_count": 6,
   "id": "cd8981f3-0677-4373-99cd-c04a56bb71eb",
   "metadata": {},
   "outputs": [
    {
     "data": {
      "text/plain": [
       "5"
      ]
     },
     "execution_count": 6,
     "metadata": {},
     "output_type": "execute_result"
    }
   ],
   "source": [
    "len(HASH_FUNCTIONS)"
   ]
  },
  {
   "cell_type": "code",
   "execution_count": 7,
   "id": "83af74a5-b347-4bcb-b6cf-48c58ce4abee",
   "metadata": {},
   "outputs": [
    {
     "name": "stdout",
     "output_type": "stream",
     "text": [
      "5 6 1 4 5 2 6 \n",
      "4 5 4 0 2 0 1 \n",
      "6 4 5 0 1 0 3 \n",
      "0 1 5 5 4 3 5 \n",
      "1 4 2 2 5 2 2 \n"
     ]
    }
   ],
   "source": [
    "hash_map = []\n",
    "for i in range(len(HASH_FUNCTIONS)):\n",
    "    list_=[]\n",
    "    for j in range((WIDTH)):\n",
    "        list_.append(HASH_FUNCTIONS[i](j)%WIDTH)\n",
    "        print(HASH_FUNCTIONS[i](j)%WIDTH, end=' ')\n",
    "    hash_map.append(list_)\n",
    "    print()"
   ]
  },
  {
   "cell_type": "code",
   "execution_count": 8,
   "id": "6468be97-f220-472f-bba7-80066ab0e49a",
   "metadata": {},
   "outputs": [
    {
     "data": {
      "text/plain": [
       "(5, 7)"
      ]
     },
     "execution_count": 8,
     "metadata": {},
     "output_type": "execute_result"
    }
   ],
   "source": [
    "hash_map =np.array(hash_map)\n",
    "hash_map.shape"
   ]
  },
  {
   "cell_type": "code",
   "execution_count": 9,
   "id": "4a8af1e9-e565-4237-af58-dc0fc7666846",
   "metadata": {},
   "outputs": [],
   "source": [
    "WEEKDAY = {'Mon':0,\n",
    "           'Tue':1,\n",
    "           'Wed':2,\n",
    "           'Thu':3,\n",
    "           'Fri':4,\n",
    "           'Sat':5,\n",
    "           'Sun':6\n",
    "          }"
   ]
  },
  {
   "cell_type": "code",
   "execution_count": 15,
   "id": "5ebd2338-7300-43f0-9848-93c78a57d747",
   "metadata": {
    "tags": []
   },
   "outputs": [
    {
     "ename": "KeyboardInterrupt",
     "evalue": "",
     "output_type": "error",
     "traceback": [
      "\u001b[0;31m---------------------------------------------------------------------------\u001b[0m",
      "\u001b[0;31mKeyboardInterrupt\u001b[0m                         Traceback (most recent call last)",
      "Cell \u001b[0;32mIn [15], line 16\u001b[0m\n\u001b[1;32m     12\u001b[0m batch[weekday]\u001b[38;5;241m+\u001b[39m\u001b[38;5;241m=\u001b[39m\u001b[38;5;241m1\u001b[39m\n\u001b[1;32m     14\u001b[0m \u001b[38;5;28;01mfor\u001b[39;00m key, count \u001b[38;5;129;01min\u001b[39;00m batch\u001b[38;5;241m.\u001b[39mitems():\n\u001b[1;32m     15\u001b[0m     \u001b[38;5;66;03m# print(key, count)\u001b[39;00m\n\u001b[0;32m---> 16\u001b[0m     \u001b[43msketch\u001b[49m\u001b[38;5;241;43m.\u001b[39;49m\u001b[43madd\u001b[49m\u001b[43m(\u001b[49m\u001b[43mkey\u001b[49m\u001b[43m,\u001b[49m\u001b[43m \u001b[49m\u001b[43mcount\u001b[49m\u001b[43m)\u001b[49m\n\u001b[1;32m     17\u001b[0m batch\u001b[38;5;241m.\u001b[39mclear()\n",
      "File \u001b[0;32m~/BERT/streaming/./CountMinSketch/countminsketch.py:21\u001b[0m, in \u001b[0;36mCountMinSketch.add\u001b[0;34m(self, x, delta)\u001b[0m\n\u001b[1;32m     19\u001b[0m \u001b[38;5;28;01mdef\u001b[39;00m \u001b[38;5;21madd\u001b[39m(\u001b[38;5;28mself\u001b[39m, x, delta\u001b[38;5;241m=\u001b[39m\u001b[38;5;241m1\u001b[39m):\n\u001b[1;32m     20\u001b[0m     \u001b[38;5;28;01mfor\u001b[39;00m i \u001b[38;5;129;01min\u001b[39;00m \u001b[38;5;28mrange\u001b[39m(\u001b[38;5;28mself\u001b[39m\u001b[38;5;241m.\u001b[39md):\n\u001b[0;32m---> 21\u001b[0m         \u001b[38;5;28mself\u001b[39m\u001b[38;5;241m.\u001b[39mM[i][\u001b[38;5;28;43mself\u001b[39;49m\u001b[38;5;241;43m.\u001b[39;49m\u001b[43mhash_functions\u001b[49m\u001b[43m[\u001b[49m\u001b[43mi\u001b[49m\u001b[43m]\u001b[49m\u001b[43m(\u001b[49m\u001b[43mx\u001b[49m\u001b[43m)\u001b[49m \u001b[38;5;241m%\u001b[39m \u001b[38;5;28mself\u001b[39m\u001b[38;5;241m.\u001b[39mw] \u001b[38;5;241m+\u001b[39m\u001b[38;5;241m=\u001b[39m delta\n",
      "File \u001b[0;32m~/BERT/streaming/./CountMinSketch/hashfactory.py:18\u001b[0m, in \u001b[0;36mhash_function.<locals>.my_hash\u001b[0;34m(x)\u001b[0m\n\u001b[1;32m     15\u001b[0m     random\u001b[38;5;241m.\u001b[39mseed(n)\n\u001b[1;32m     16\u001b[0m     mask \u001b[38;5;241m=\u001b[39m _memomask[n] \u001b[38;5;241m=\u001b[39m random\u001b[38;5;241m.\u001b[39mgetrandbits(\u001b[38;5;241m32\u001b[39m)\n\u001b[0;32m---> 18\u001b[0m \u001b[38;5;28;01mdef\u001b[39;00m \u001b[38;5;21mmy_hash\u001b[39m(x):\n\u001b[1;32m     19\u001b[0m     \u001b[38;5;28;01mreturn\u001b[39;00m \u001b[38;5;28mhash\u001b[39m(\u001b[38;5;28mstr\u001b[39m(x) \u001b[38;5;241m+\u001b[39m \u001b[38;5;28mstr\u001b[39m(n)) \u001b[38;5;241m^\u001b[39m mask\n\u001b[1;32m     21\u001b[0m \u001b[38;5;28;01mreturn\u001b[39;00m my_hash\n",
      "\u001b[0;31mKeyboardInterrupt\u001b[0m: "
     ]
    }
   ],
   "source": [
    "batch = Counter()\n",
    "sketch = CountMinSketch(DEPTH, WIDTH, HASH_FUNCTIONS)\n",
    "for idx, tid in enumerate(file['_id']):\n",
    "    # print(tid)\n",
    "    timestamp = find_tweet_timestamp_post_snowflake(tid)\n",
    "    current_date = datetime.datetime.fromtimestamp(timestamp/1000)\n",
    "    \n",
    "    hour = current_date.hour\n",
    "    weekday = WEEKDAY[current_date.ctime().split()[0]]\n",
    "    #print(current_date.hour, current_date.ctime().split()[0])\n",
    "    \n",
    "    batch[weekday]+=1\n",
    "    \n",
    "    for key, count in batch.items():\n",
    "        # print(key, count)\n",
    "        sketch.add(key, count)\n",
    "    batch.clear()\n",
    "    \n",
    "    # if idx==100:\n",
    "    #     break"
   ]
  },
  {
   "cell_type": "code",
   "execution_count": 16,
   "id": "be7915a7-9fb6-4ade-ac69-21bdf35a43ce",
   "metadata": {},
   "outputs": [
    {
     "data": {
      "text/plain": [
       "array([[5, 6, 1, 4, 5, 2, 6],\n",
       "       [4, 5, 4, 0, 2, 0, 1],\n",
       "       [6, 4, 5, 0, 1, 0, 3],\n",
       "       [0, 1, 5, 5, 4, 3, 5],\n",
       "       [1, 4, 2, 2, 5, 2, 2]])"
      ]
     },
     "execution_count": 16,
     "metadata": {},
     "output_type": "execute_result"
    }
   ],
   "source": [
    "hash_map"
   ]
  },
  {
   "cell_type": "code",
   "execution_count": 17,
   "id": "1abf28bf-5ae6-4060-875e-a0b31ef5b73f",
   "metadata": {},
   "outputs": [
    {
     "data": {
      "text/plain": [
       "array([[      0,       0,       0,       0,       0, 2021286, 2678052],\n",
       "       [      0,       0,       0,       0, 2021286, 2678052,       0],\n",
       "       [      0,       0,       0,       0, 2678051,       0, 2021286],\n",
       "       [2021286, 2678051,       0,       0,       0,       0,       0],\n",
       "       [      0, 2021286,       0,       0, 2678051,       0,       0]],\n",
       "      dtype=int32)"
      ]
     },
     "execution_count": 17,
     "metadata": {},
     "output_type": "execute_result"
    }
   ],
   "source": [
    "sketch.get_matrix()"
   ]
  },
  {
   "cell_type": "code",
   "execution_count": 18,
   "id": "6caf54e3-8f6c-42b1-97a2-40fa4238bd32",
   "metadata": {},
   "outputs": [
    {
     "name": "stdout",
     "output_type": "stream",
     "text": [
      "2021286\n",
      "2678051\n",
      "0\n",
      "0\n",
      "0\n",
      "0\n",
      "0\n"
     ]
    }
   ],
   "source": [
    "# Monday to Sunday\n",
    "for index in range(WIDTH):\n",
    "    print(min([sketch.get_matrix()[i][j] for i,j in enumerate([j for j in hash_map[:, index]])]))"
   ]
  },
  {
   "cell_type": "code",
   "execution_count": 19,
   "id": "77bc45d0-e961-40ef-a662-34909678077b",
   "metadata": {},
   "outputs": [
    {
     "data": {
      "text/plain": [
       "1455495752537444356"
      ]
     },
     "execution_count": 19,
     "metadata": {},
     "output_type": "execute_result"
    }
   ],
   "source": [
    "tid"
   ]
  },
  {
   "cell_type": "code",
   "execution_count": null,
   "id": "9c9372e7-45cb-402b-8895-b429fbaaaa39",
   "metadata": {},
   "outputs": [],
   "source": []
  },
  {
   "cell_type": "code",
   "execution_count": null,
   "id": "2287aef1-e50e-4d6e-9132-231fbde9044b",
   "metadata": {},
   "outputs": [],
   "source": []
  },
  {
   "cell_type": "code",
   "execution_count": null,
   "id": "3f343036-2178-4c31-8c02-d43b97d50c61",
   "metadata": {},
   "outputs": [],
   "source": []
  },
  {
   "cell_type": "code",
   "execution_count": null,
   "id": "31eb3a2f-89b3-4667-8976-ef7b812abb16",
   "metadata": {},
   "outputs": [],
   "source": []
  },
  {
   "cell_type": "code",
   "execution_count": null,
   "id": "b55f784e-7c2c-427a-9dc1-167285ace5e1",
   "metadata": {},
   "outputs": [],
   "source": []
  },
  {
   "cell_type": "code",
   "execution_count": null,
   "id": "2c8b5b01-2d98-4638-8634-235c3352ec08",
   "metadata": {},
   "outputs": [],
   "source": []
  },
  {
   "cell_type": "code",
   "execution_count": null,
   "id": "86aba1aa-b6c6-4b29-aea5-1caf8bdaa30a",
   "metadata": {},
   "outputs": [],
   "source": []
  },
  {
   "cell_type": "code",
   "execution_count": null,
   "id": "ae80bc9c-e432-40f3-a2c3-9f6dcbe0678a",
   "metadata": {},
   "outputs": [],
   "source": []
  },
  {
   "cell_type": "code",
   "execution_count": null,
   "id": "d2b78a40-7089-4fda-8c09-a6debe4680c8",
   "metadata": {},
   "outputs": [],
   "source": []
  }
 ],
 "metadata": {
  "kernelspec": {
   "display_name": "Python 3.8.0 ('torch')",
   "language": "python",
   "name": "python3"
  },
  "language_info": {
   "codemirror_mode": {
    "name": "ipython",
    "version": 3
   },
   "file_extension": ".py",
   "mimetype": "text/x-python",
   "name": "python",
   "nbconvert_exporter": "python",
   "pygments_lexer": "ipython3",
   "version": "3.8.0"
  },
  "vscode": {
   "interpreter": {
    "hash": "5c94642f67e4fdd9b1399aa8ccb3ca48a8a2765c246252a4f3d1cf9641cb9504"
   }
  }
 },
 "nbformat": 4,
 "nbformat_minor": 5
}
