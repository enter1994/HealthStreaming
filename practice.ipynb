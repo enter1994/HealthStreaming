{
 "cells": [
  {
   "cell_type": "code",
   "execution_count": null,
   "metadata": {},
   "outputs": [],
   "source": []
  }
 ],
 "metadata": {
  "kernelspec": {
   "display_name": "Python 3.8.15 ('kafka')",
   "language": "python",
   "name": "python3"
  },
  "language_info": {
   "name": "python",
   "version": "3.8.15"
  },
  "orig_nbformat": 4,
  "vscode": {
   "interpreter": {
    "hash": "07f5098c0d20b8b9fdc9295daf67ce3b35bdd63b4a3860409532bf0e808a3e96"
   }
  }
 },
 "nbformat": 4,
 "nbformat_minor": 2
}
